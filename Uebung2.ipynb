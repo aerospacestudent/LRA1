{
 "cells": [
  {
   "cell_type": "markdown",
   "id": "87abc858-8bcd-42d6-86a3-2d6c60f96ef4",
   "metadata": {},
   "source": [
    "## Übung 2 LRA "
   ]
  },
  {
   "cell_type": "code",
   "execution_count": 1,
   "id": "0c156c4a-2871-4a62-be3e-b3a8970a697f",
   "metadata": {},
   "outputs": [],
   "source": [
    "T0 =288.15\n",
    "Tt2=T0\n",
    "p0 = pt2= 1013\n",
    "πE =1.0\n",
    "phi=4\n",
    "mL=652.7\n",
    "mLII=mL/5     # Achtung Bezeichung vertauscht!\n",
    "mLI=4*mLII\n",
    "\n",
    "πFan = 1.85\n",
    "Tt4 = 1500\n",
    "πBK = 1\n",
    "πges = 28.4\n",
    "\n",
    "#(Brennstoffmassenstrom ist zu vernachlässigen)\n",
    "πges = 28.4 \n",
    "πBK = 1.0\n",
    "nFan = nHDV = nHDT= nNDT =0.86 \n",
    "nmech =1 \n",
    "nDI =nDII = 0.95 \n",
    "Rl= 287.1\n",
    "cp13 = 1004 \n",
    "cp=cp13\n",
    "k13=cp/(cp-Rl)\n",
    "k13=1.4\n",
    "cp49 = 1050\n",
    "cp=cp49\n",
    "k49=cp/(cp-Rl)\n",
    "k49=1.376\n",
    "\n",
    "nA = 0.99\n",
    "Hu = 43*10**6\n"
   ]
  },
  {
   "cell_type": "code",
   "execution_count": 2,
   "id": "7a7849da-ac48-435e-b696-7e052ef3e0dd",
   "metadata": {},
   "outputs": [
    {
     "data": {
      "text/plain": [
       "343.52108868756153"
      ]
     },
     "execution_count": 2,
     "metadata": {},
     "output_type": "execute_result"
    }
   ],
   "source": [
    "k=k13\n",
    "Tt13is=πFan**((k-1)/k)*T0\n",
    "\n",
    "Tt13is"
   ]
  },
  {
   "cell_type": "code",
   "execution_count": 3,
   "id": "fca4ae30-d175-41db-9d01-230288339919",
   "metadata": {},
   "outputs": [
    {
     "data": {
      "text/plain": [
       "(352.5349868460018, 1874.0500000000002)"
      ]
     },
     "execution_count": 3,
     "metadata": {},
     "output_type": "execute_result"
    }
   ],
   "source": [
    "T2=T0\n",
    "Tt13=T2-(T2-Tt13is)/nFan\n",
    "pt13=πFan*p0\n",
    "Tt13, pt13"
   ]
  },
  {
   "cell_type": "code",
   "execution_count": 4,
   "id": "a9f4af17-fa11-4197-85af-d74dfbc0b180",
   "metadata": {},
   "outputs": [
    {
     "data": {
      "text/plain": [
       "329.3770690325899"
      ]
     },
     "execution_count": 4,
     "metadata": {},
     "output_type": "execute_result"
    }
   ],
   "source": [
    "k=k13\n",
    "πv=1/πFan\n",
    "c18=(abs(nDII*2*k/(k-1)*Rl*Tt13*(1-πv**((k-1)/k))))**0.5\n",
    "c18"
   ]
  },
  {
   "cell_type": "code",
   "execution_count": 5,
   "id": "fa03fbcc-ee59-4d38-b193-225ac37438ac",
   "metadata": {},
   "outputs": [
    {
     "data": {
      "text/plain": [
       "28769.199999999997"
      ]
     },
     "execution_count": 5,
     "metadata": {},
     "output_type": "execute_result"
    }
   ],
   "source": [
    "pt3=πges*pt2\n",
    "pt4=pt3\n",
    "\n",
    "pt4"
   ]
  },
  {
   "cell_type": "code",
   "execution_count": null,
   "id": "add981b7-12ab-41ff-9c4c-e04fb1fa49b6",
   "metadata": {},
   "outputs": [],
   "source": []
  },
  {
   "cell_type": "code",
   "execution_count": 6,
   "id": "d52f2e8a-8c9c-4c58-bb26-7346809dccdd",
   "metadata": {},
   "outputs": [
    {
     "data": {
      "text/plain": [
       "(205506.28616605717, 171987.53036605715)"
      ]
     },
     "execution_count": 6,
     "metadata": {},
     "output_type": "execute_result"
    }
   ],
   "source": [
    "F1=c18*mLI\n",
    "format(F1,'')\n",
    "# Test for my values\n",
    "\n",
    "F2=mLII*256.77\n",
    "\n",
    "Fges=F1+F2\n",
    "Fges, F1"
   ]
  },
  {
   "cell_type": "code",
   "execution_count": 7,
   "id": "da6d1d8a-e9ac-4769-8f67-f4a031ff627a",
   "metadata": {},
   "outputs": [
    {
     "data": {
      "text/plain": [
       "15.351351351351349"
      ]
     },
     "execution_count": 7,
     "metadata": {},
     "output_type": "execute_result"
    }
   ],
   "source": [
    "πHDV=pt3/pt13\n",
    "πHDV"
   ]
  },
  {
   "cell_type": "code",
   "execution_count": 8,
   "id": "bb62d101-0752-4446-b933-50c6e4f3f257",
   "metadata": {},
   "outputs": [
    {
     "data": {
      "text/plain": [
       "769.3097849467053"
      ]
     },
     "execution_count": 8,
     "metadata": {},
     "output_type": "execute_result"
    }
   ],
   "source": [
    "k=k13\n",
    "Tt3is=(πHDV**((k-1)/k))*Tt13\n",
    "Tt3is"
   ]
  },
  {
   "cell_type": "code",
   "execution_count": 9,
   "id": "28789e92-09e2-4f0f-8cd7-96ea41986c05",
   "metadata": {},
   "outputs": [
    {
     "data": {
      "text/plain": [
       "837.1568451026338"
      ]
     },
     "execution_count": 9,
     "metadata": {},
     "output_type": "execute_result"
    }
   ],
   "source": [
    "dT3is=Tt3is-Tt13\n",
    "dT3=dT3is/nHDV\n",
    "Tt3=Tt13+dT3\n",
    "Tt3"
   ]
  },
  {
   "cell_type": "code",
   "execution_count": 10,
   "id": "be0caaab-5906-41e4-9187-a85f115b175b",
   "metadata": {},
   "outputs": [
    {
     "data": {
      "text/plain": [
       "2.33884414250673"
      ]
     },
     "execution_count": 10,
     "metadata": {},
     "output_type": "execute_result"
    }
   ],
   "source": [
    "mB=mLII*(cp49*Tt4-cp13*Tt3)/(nA*Hu-cp49*Tt4)\n",
    "mB"
   ]
  },
  {
   "cell_type": "code",
   "execution_count": 11,
   "id": "a8eab3d9-7869-431a-8799-1a7a2297c43f",
   "metadata": {},
   "outputs": [
    {
     "data": {
      "text/plain": [
       "(961.1734820712529, 1036.6091945812775)"
      ]
     },
     "execution_count": 11,
     "metadata": {},
     "output_type": "execute_result"
    }
   ],
   "source": [
    "dTHDV=cp13/cp49*(Tt3-Tt13)    # Über Leistungsgleichgewicht -> liefert realen Wert der Turbine\n",
    "\n",
    "Tt45=Tt4-dTHDV\n",
    "\n",
    "Tt45is=Tt4-dTHDV/nHDT         #Zurückrechnen auf Idealen Prozess um über isentropenbeziehung auf Druck zu kommen!\n",
    "\n",
    "Tt45is, Tt45"
   ]
  },
  {
   "cell_type": "code",
   "execution_count": 12,
   "id": "3ae1a886-d34c-40a2-a96b-5784aad56052",
   "metadata": {},
   "outputs": [
    {
     "data": {
      "text/plain": [
       "(5643.78608861855, 28769.199999999997)"
      ]
     },
     "execution_count": 12,
     "metadata": {},
     "output_type": "execute_result"
    }
   ],
   "source": [
    "k=k49\n",
    "pt45=(Tt45is/Tt4)**(k/(k-1))*pt4\n",
    "pt45,pt4"
   ]
  },
  {
   "cell_type": "code",
   "execution_count": 13,
   "id": "9d74c9a0-578a-4f6b-83da-0f3c55cb15da",
   "metadata": {},
   "outputs": [
    {
     "data": {
      "text/plain": [
       "(302.4034879314478, 64.38498684600182)"
      ]
     },
     "execution_count": 13,
     "metadata": {},
     "output_type": "execute_result"
    }
   ],
   "source": [
    "dTFan=Tt13-Tt2\n",
    "\n",
    "dTNDT= cp13*dTFan*(mLI+mLII)/(cp49*(mLII+mB))\n",
    "\n",
    "dTNDT ,dTFan"
   ]
  },
  {
   "cell_type": "code",
   "execution_count": 14,
   "id": "52114680-1a77-40a1-88f8-cd92a2fe57b6",
   "metadata": {},
   "outputs": [
    {
     "data": {
      "text/plain": [
       "(684.9772318702917, 734.2057066498297)"
      ]
     },
     "execution_count": 14,
     "metadata": {},
     "output_type": "execute_result"
    }
   ],
   "source": [
    "Tt5=Tt45-dTNDT\n",
    "Tt5is=Tt45-dTNDT/nNDT\n",
    "Tt5is, Tt5"
   ]
  },
  {
   "cell_type": "code",
   "execution_count": 15,
   "id": "223df3d7-376c-49c2-9651-d8d1eaaa691d",
   "metadata": {},
   "outputs": [
    {
     "data": {
      "text/plain": [
       "(1238.9981710220038, 5643.78608861855)"
      ]
     },
     "execution_count": 15,
     "metadata": {},
     "output_type": "execute_result"
    }
   ],
   "source": [
    "k=k49\n",
    "pt5=(Tt5is/Tt45)**(k/(k-1))*pt45\n",
    "pt5,pt45"
   ]
  },
  {
   "cell_type": "code",
   "execution_count": 16,
   "id": "f252286b-d522-4b21-8718-b302037ed285",
   "metadata": {},
   "outputs": [
    {
     "data": {
      "text/plain": [
       "36569.082971664735"
      ]
     },
     "execution_count": 16,
     "metadata": {},
     "output_type": "execute_result"
    }
   ],
   "source": [
    "πD=p0/pt5\n",
    "c8=(nDII*2*k/(k-1)*Rl*Tt5*(1-πD**((k-1)/k)))**0.5\n",
    "Fkern=c8*mLII\n",
    "Fkern"
   ]
  },
  {
   "cell_type": "code",
   "execution_count": null,
   "id": "1e1a2699-432e-4288-a80d-f414a7c09278",
   "metadata": {},
   "outputs": [],
   "source": []
  }
 ],
 "metadata": {
  "kernelspec": {
   "display_name": "Python 3 (ipykernel)",
   "language": "python",
   "name": "python3"
  },
  "language_info": {
   "codemirror_mode": {
    "name": "ipython",
    "version": 3
   },
   "file_extension": ".py",
   "mimetype": "text/x-python",
   "name": "python",
   "nbconvert_exporter": "python",
   "pygments_lexer": "ipython3",
   "version": "3.9.9"
  }
 },
 "nbformat": 4,
 "nbformat_minor": 5
}
