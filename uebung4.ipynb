{
 "cells": [
  {
   "cell_type": "markdown",
   "id": "648ca2e3-3e1a-4254-b3bc-daf29a3a1e6a",
   "metadata": {
    "tags": []
   },
   "source": [
    "## Übung 2 ZTL 2 Wellen "
   ]
  },
  {
   "cell_type": "code",
   "execution_count": 1,
   "id": "40302be0-b68a-444a-a98a-2cdcc2bcf876",
   "metadata": {},
   "outputs": [],
   "source": [
    "T0=218\n",
    "p0=250\n",
    "Ma=0.86\n",
    "k=1.4\n",
    "R=287.1\n",
    "k1=k-1\n",
    "cp=R*k/k1\n",
    "\n",
    "πE=0.95\n",
    "πFan=1.8\n",
    "nFan=1\n",
    "nD=1\n",
    "\n",
    "mLIc=50\n",
    "\n",
    "Tt5=850"
   ]
  },
  {
   "cell_type": "markdown",
   "id": "046e44f4-f30a-48ef-aba8-a08fd4ae07e5",
   "metadata": {
    "jp-MarkdownHeadingCollapsed": true,
    "tags": []
   },
   "source": [
    "#### Falsche Rechnung hier "
   ]
  },
  {
   "cell_type": "raw",
   "id": "2bed0d9e-5dee-4c16-9f0a-0a5dc2610642",
   "metadata": {},
   "source": [
    "Tt0=(1+(k-1)/2*Ma**2)*T0\n",
    "Tt0"
   ]
  },
  {
   "cell_type": "raw",
   "id": "7550afd1-5af1-4d87-aef3-b69dbfac71f3",
   "metadata": {},
   "source": [
    "pt0=(1+(k-1)/2*Ma**2)**(k/(k-1))*T0\n",
    "pt0"
   ]
  },
  {
   "cell_type": "raw",
   "id": "81ffe579-aea9-4540-b29e-4ec6a170e380",
   "metadata": {},
   "source": [
    "pt2=pt0*πE\n",
    "pt2"
   ]
  },
  {
   "cell_type": "raw",
   "id": "42dd498e-4376-4915-b416-baa80ecf5e71",
   "metadata": {},
   "source": [
    "pt13=πFan*pt2\n",
    "pt13"
   ]
  },
  {
   "cell_type": "raw",
   "id": "6d61e5ab-4a41-46c1-8622-fe0c08e27eef",
   "metadata": {},
   "source": [
    "πDII=pt13/pt0\n",
    "πDII"
   ]
  },
  {
   "cell_type": "raw",
   "id": "9b255e8c-9b1e-41c8-8356-a7babfe7ffcb",
   "metadata": {},
   "source": [
    "Tt13=πDII**((k-1)/k)*Tt0\n",
    "Tt13=296.07"
   ]
  },
  {
   "cell_type": "raw",
   "id": "5abf0ed3-d8e3-4206-b239-aa6f321e10b6",
   "metadata": {},
   "source": [
    "c18=(abs(nD*2*k/(k-1)*R*Tt13*(1-πDII**((k-1)/k))))**0.5\n",
    "Fällt weg, falsche anwendung hier"
   ]
  },
  {
   "cell_type": "markdown",
   "id": "6983490f-db5f-4a64-ad0e-6ea337975d16",
   "metadata": {},
   "source": [
    "### Neuer Rechenansatz"
   ]
  },
  {
   "cell_type": "code",
   "execution_count": 2,
   "id": "ca58f5e7-51d0-4622-8e17-e0f355d6f1d1",
   "metadata": {},
   "outputs": [
    {
     "data": {
      "text/plain": [
       "254.5700525042174"
      ]
     },
     "execution_count": 2,
     "metadata": {},
     "output_type": "execute_result"
    }
   ],
   "source": [
    "c0=(k*R*T0)**0.5*Ma\n",
    "c0"
   ]
  },
  {
   "cell_type": "code",
   "execution_count": 3,
   "id": "b3b44f3c-2f05-4809-b21c-be8aaf7b756c",
   "metadata": {},
   "outputs": [
    {
     "data": {
      "text/plain": [
       "250.24656"
      ]
     },
     "execution_count": 3,
     "metadata": {},
     "output_type": "execute_result"
    }
   ],
   "source": [
    "Tt0=T0+c0**2/2/cp\n",
    "Tt0"
   ]
  },
  {
   "cell_type": "code",
   "execution_count": 4,
   "id": "7376b2c1-4f51-4edb-906a-d6223879064a",
   "metadata": {},
   "outputs": [
    {
     "data": {
      "text/plain": [
       "405.16384853049084"
      ]
     },
     "execution_count": 4,
     "metadata": {},
     "output_type": "execute_result"
    }
   ],
   "source": [
    "pt2is=(Tt0/T0)**(k/k1)*p0\n",
    "pt2is"
   ]
  },
  {
   "cell_type": "code",
   "execution_count": 5,
   "id": "e97435ae-cac8-4fe2-b476-b7487c92f362",
   "metadata": {},
   "outputs": [
    {
     "data": {
      "text/plain": [
       "384.9056561039663"
      ]
     },
     "execution_count": 5,
     "metadata": {},
     "output_type": "execute_result"
    }
   ],
   "source": [
    "pt2=pt2is*πE\n",
    "pt2"
   ]
  },
  {
   "cell_type": "code",
   "execution_count": 6,
   "id": "270a5cbd-ffe0-431b-b317-076bbcd1c002",
   "metadata": {},
   "outputs": [
    {
     "data": {
      "text/plain": [
       "692.8301809871393"
      ]
     },
     "execution_count": 6,
     "metadata": {},
     "output_type": "execute_result"
    }
   ],
   "source": [
    "pt13=πFan*pt2\n",
    "pt13"
   ]
  },
  {
   "cell_type": "code",
   "execution_count": 7,
   "id": "8f05d107-39f9-423e-b577-c82c07c435a2",
   "metadata": {},
   "outputs": [],
   "source": [
    "Tt2=Tt0"
   ]
  },
  {
   "cell_type": "code",
   "execution_count": 8,
   "id": "e632ba70-80f9-4317-a4c2-3bb723cc9c92",
   "metadata": {},
   "outputs": [
    {
     "data": {
      "text/plain": [
       "(296.00777443492433, 250.24656)"
      ]
     },
     "execution_count": 8,
     "metadata": {},
     "output_type": "execute_result"
    }
   ],
   "source": [
    "Tt13=Tt2*πFan**(k1/k)\n",
    "Tt13, Tt0"
   ]
  },
  {
   "cell_type": "code",
   "execution_count": 9,
   "id": "87193513-58e3-495b-8c71-a6368c6309a7",
   "metadata": {},
   "outputs": [
    {
     "data": {
      "text/plain": [
       "448.4630215304518"
      ]
     },
     "execution_count": 9,
     "metadata": {},
     "output_type": "execute_result"
    }
   ],
   "source": [
    "πD=pt13/p0\n",
    "c18=(abs(nD*2*k/(k-1)*R*Tt13*(1-πD**((k-1)/k))))**0.5\n",
    "c18"
   ]
  },
  {
   "cell_type": "code",
   "execution_count": 10,
   "id": "470139dc-a1e5-41eb-9221-3bb390b9720d",
   "metadata": {},
   "outputs": [
    {
     "data": {
      "text/plain": [
       "0.5282817877171742"
      ]
     },
     "execution_count": 10,
     "metadata": {},
     "output_type": "execute_result"
    }
   ],
   "source": [
    "πkrit=(2/(k+1))**(k/k1)\n",
    "πkrit"
   ]
  },
  {
   "cell_type": "code",
   "execution_count": 11,
   "id": "3960b400-269b-42e9-b01f-2f9ebbe0358c",
   "metadata": {},
   "outputs": [
    {
     "data": {
      "text/plain": [
       "0.36083878396261815"
      ]
     },
     "execution_count": 11,
     "metadata": {},
     "output_type": "execute_result"
    }
   ],
   "source": [
    "1/πD"
   ]
  },
  {
   "cell_type": "raw",
   "id": "0ec37bf6-0165-49e5-a3ab-dbdcaf0643cb",
   "metadata": {},
   "source": [
    "πD des Bypass ist überkritisch!\n",
    "also ist c18= ckrit da keine weitere Düsenexpansion vorliegt!"
   ]
  },
  {
   "cell_type": "code",
   "execution_count": 12,
   "id": "9ae54b55-7962-4eff-84c2-7f0fff246cab",
   "metadata": {},
   "outputs": [],
   "source": [
    "c18krit=(2*k/(k+1)*R*Tt13)**0.5\n",
    "c18krit\n",
    "c18=c18krit"
   ]
  },
  {
   "cell_type": "raw",
   "id": "b6dae827-2e4b-45ca-b420-e45b2f5ff9e5",
   "metadata": {},
   "source": [
    "Korrigeren der Größen"
   ]
  },
  {
   "cell_type": "code",
   "execution_count": 13,
   "id": "dbfb270c-7e85-4b4f-ae60-0473b1840a2c",
   "metadata": {},
   "outputs": [],
   "source": [
    "O=Tt13/288.15\n",
    "b=pt13/1013.25"
   ]
  },
  {
   "cell_type": "code",
   "execution_count": 14,
   "id": "c8c9b2b8-f00d-4b05-81f2-6d9fe39bc11e",
   "metadata": {},
   "outputs": [
    {
     "data": {
      "text/plain": [
       "33.73167778495888"
      ]
     },
     "execution_count": 14,
     "metadata": {},
     "output_type": "execute_result"
    }
   ],
   "source": [
    "mLI=mLIc*b/O**0.5\n",
    "mLI"
   ]
  },
  {
   "cell_type": "code",
   "execution_count": 15,
   "id": "f817c2ee-79ab-4a83-aee5-c696f815fc12",
   "metadata": {},
   "outputs": [
    {
     "data": {
      "text/plain": [
       "134.92671113983553"
      ]
     },
     "execution_count": 15,
     "metadata": {},
     "output_type": "execute_result"
    }
   ],
   "source": [
    "mLII=4*mLI\n",
    "mLII"
   ]
  },
  {
   "cell_type": "raw",
   "id": "7c52dc8a-b40c-41cd-b99d-bf0ffe124335",
   "metadata": {},
   "source": [
    "Auslegung für c8"
   ]
  },
  {
   "cell_type": "code",
   "execution_count": 16,
   "id": "3d5afeb5-885f-432e-91df-5265e47f95c0",
   "metadata": {},
   "outputs": [
    {
     "data": {
      "text/plain": [
       "473.23228968446347"
      ]
     },
     "execution_count": 16,
     "metadata": {},
     "output_type": "execute_result"
    }
   ],
   "source": [
    "pt18=1/πkrit*p0\n",
    "pt18"
   ]
  },
  {
   "cell_type": "code",
   "execution_count": 17,
   "id": "e1fc6511-7734-412a-b887-eadf962ac728",
   "metadata": {},
   "outputs": [
    {
     "data": {
      "text/plain": [
       "533.5798909254358"
      ]
     },
     "execution_count": 17,
     "metadata": {},
     "output_type": "execute_result"
    }
   ],
   "source": [
    "c8=(2*k/k1*R*Tt5*(1-πkrit**(k1/k)))**0.5\n",
    "c8"
   ]
  },
  {
   "cell_type": "raw",
   "id": "b1019385-6d65-49f4-b737-21cd9875c0da",
   "metadata": {},
   "source": [
    "Thurst mit vereinfachungen"
   ]
  },
  {
   "cell_type": "code",
   "execution_count": 18,
   "id": "ac5ef4d3-5a41-40a1-9152-b10128a799e1",
   "metadata": {},
   "outputs": [
    {
     "data": {
      "text/plain": [
       "17548.5478119303"
      ]
     },
     "execution_count": 18,
     "metadata": {},
     "output_type": "execute_result"
    }
   ],
   "source": [
    "Thrust= mLI*c8+mLII*c18-c0*(mLII+mLI) #+0.83*(36608-25000)\n",
    "Thrust"
   ]
  },
  {
   "cell_type": "raw",
   "id": "6c557d26-992a-4644-b4ef-d6e8082ebded",
   "metadata": {},
   "source": [
    "Berechnung des Düsenquerschnitts des Bypasses da hier überkritisches Druckverhältniss vorliegt!     ->    Druckschub liegt zusatzlich vor"
   ]
  },
  {
   "cell_type": "code",
   "execution_count": 19,
   "id": "30674c90-9f16-4cfd-a630-019f16dde5c2",
   "metadata": {},
   "outputs": [
    {
     "data": {
      "text/plain": [
       "0.8291230936481832"
      ]
     },
     "execution_count": 19,
     "metadata": {},
     "output_type": "execute_result"
    }
   ],
   "source": [
    "# mLII=rho*c18*AD\n",
    "Tt18=Tt13\n",
    "Tst18=Tt18-c18**2/2/cp\n",
    "\n",
    "p18st=πkrit*pt13*100  #für umrechnung hPa in Pa[N/m**2]\n",
    "\n",
    "rho=p18st/R/Tst18\n",
    "\n",
    "\n",
    "AD=mLII/rho/c18\n",
    "AD"
   ]
  },
  {
   "cell_type": "code",
   "execution_count": 20,
   "id": "0c247224-70d0-4a9a-b0bd-da2fc7fad88c",
   "metadata": {},
   "outputs": [
    {
     "data": {
      "text/plain": [
       "'27.17kN Thrust'"
      ]
     },
     "execution_count": 20,
     "metadata": {},
     "output_type": "execute_result"
    }
   ],
   "source": [
    "Thrust= mLI*c8+mLII*c18-c0*(mLII+mLI) + AD*(p18st-p0*100)\n",
    "format(Thrust/1000,'.4')+'kN Thrust'"
   ]
  },
  {
   "cell_type": "code",
   "execution_count": 21,
   "id": "bf7dd8c7-a01b-4dd6-88d3-3ac98ff879b0",
   "metadata": {},
   "outputs": [
    {
     "data": {
      "text/plain": [
       "36600.95665962993"
      ]
     },
     "execution_count": 21,
     "metadata": {},
     "output_type": "execute_result"
    }
   ],
   "source": [
    "pt13*πkrit*100"
   ]
  },
  {
   "cell_type": "markdown",
   "id": "a66b8468-d9d3-484d-ace1-70c735f94b77",
   "metadata": {},
   "source": [
    "### Wirkungsgrad Niederdruckturbine "
   ]
  },
  {
   "cell_type": "code",
   "execution_count": 31,
   "id": "4696a334-4b9e-435c-aca5-3f9ae70d9e7e",
   "metadata": {
    "jupyter": {
     "source_hidden": true
    },
    "tags": []
   },
   "outputs": [],
   "source": [
    "ans=[]\n",
    "x=pt13\n",
    "y=str('pt13')\n",
    "ans.append('%s=  '%y+str(x))\n",
    "\n",
    "x=pt2\n",
    "y=str('pt2')\n",
    "ans.append('%s=  '%y+str(x))"
   ]
  },
  {
   "cell_type": "code",
   "execution_count": null,
   "id": "03464b74-7f6f-4969-adea-36b548f623d9",
   "metadata": {
    "tags": []
   },
   "outputs": [],
   "source": []
  }
 ],
 "metadata": {
  "kernelspec": {
   "display_name": "Python 3 (ipykernel)",
   "language": "python",
   "name": "python3"
  },
  "language_info": {
   "codemirror_mode": {
    "name": "ipython",
    "version": 3
   },
   "file_extension": ".py",
   "mimetype": "text/x-python",
   "name": "python",
   "nbconvert_exporter": "python",
   "pygments_lexer": "ipython3",
   "version": "3.9.9"
  }
 },
 "nbformat": 4,
 "nbformat_minor": 5
}
