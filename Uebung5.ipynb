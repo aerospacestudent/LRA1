{
 "cells": [
  {
   "cell_type": "markdown",
   "id": "af006189-0e5f-4844-af54-d8fdc6c897b9",
   "metadata": {},
   "source": [
    "## Übung 5 Vergleich:  Front-/ Aft-Fan "
   ]
  },
  {
   "cell_type": "code",
   "execution_count": 1,
   "id": "4503c992-2e02-4cd5-b21e-e1885a0f8981",
   "metadata": {},
   "outputs": [],
   "source": [
    "p0=1013\n",
    "T0=288.15\n",
    "cp1=1004\n",
    "cp4=1050\n",
    "R=287.1\n",
    "k1=cp1/(cp1-R)\n",
    "k4=cp4/(cp4-R)\n",
    "\n",
    "πE=1\n",
    "πV=15\n",
    "nHDV=0.86\n",
    "\n",
    "mL1=60\n",
    "mB=1.479\n",
    "nA=0.98\n",
    "πBK=0.95\n",
    "Hu=43*10**6\n",
    "nHDT=0.8\n",
    "nD=0.95\n",
    "\n",
    "phi=4\n",
    "\n",
    "πfan=1.8\n",
    "nfan=0.9\n",
    "nNDT=0.75"
   ]
  },
  {
   "cell_type": "raw",
   "id": "5f2daae2-4646-43dd-bc27-cd0712d46503",
   "metadata": {},
   "source": [
    "Berechnung Core-Engine als TL-Triebwerk"
   ]
  },
  {
   "cell_type": "markdown",
   "id": "7d52be53-9e94-4120-ab06-e176fc86bbf8",
   "metadata": {
    "jp-MarkdownHeadingCollapsed": true,
    "tags": []
   },
   "source": [
    "### Fehler in der Rechnung "
   ]
  },
  {
   "cell_type": "raw",
   "id": "87078883-02e4-471c-8161-063ed302df9b",
   "metadata": {},
   "source": [
    "pt3=p0*πV\n",
    "pt3"
   ]
  },
  {
   "cell_type": "raw",
   "id": "a7d3998a-159e-4235-9f91-a82d03b0ef8d",
   "metadata": {},
   "source": [
    "k=k1\n",
    "Tt2=T0\n",
    "\n",
    "Tt3is=πV**((k-1)/k)*Tt2\n",
    "Tt3is"
   ]
  },
  {
   "cell_type": "raw",
   "id": "72b3d01a-993f-4d0d-8d07-2ae6b1b1e3b8",
   "metadata": {},
   "source": [
    "Tt3=(Tt3is-Tt2)/nHDV+Tt2\n",
    "Tt3"
   ]
  },
  {
   "cell_type": "raw",
   "id": "1f1c86c6-f52a-46b5-b8f7-e5b042f3c942",
   "metadata": {},
   "source": [
    "Tt4=mB*Hu*nA/(mB+mL1)/cp4+mL1*cp1*Tt3/mB/Hu/nA\n",
    "Tt4=1600"
   ]
  },
  {
   "cell_type": "raw",
   "id": "0caaeb7d-3cb4-4bb3-90b7-78b51eb4aac4",
   "metadata": {},
   "source": [
    "pt4=πBK*pt3\n",
    "pt4"
   ]
  },
  {
   "cell_type": "raw",
   "id": "f81af9b5-b058-42b8-91f8-2e51803ea8ed",
   "metadata": {},
   "source": [
    "Tt5=Tt4-cp1/cp4*mL1/(mL1+mB)*(Tt3-Tt2)\n",
    "Tt5"
   ]
  },
  {
   "cell_type": "raw",
   "id": "392219b4-ec3a-4c39-86ba-e2fc73dfd5e5",
   "metadata": {},
   "source": [
    "T5is=(Tt5-Tt4)/nHDT +Tt4\n",
    "T5is"
   ]
  },
  {
   "cell_type": "raw",
   "id": "6d0b5025-3732-485f-8d81-e4e769c9f0b5",
   "metadata": {},
   "source": [
    "pt5=(T5is/Tt4)**(k/(k-1))*pt4\n",
    "pt5"
   ]
  },
  {
   "cell_type": "raw",
   "id": "090729a2-5f28-41d7-a474-a26e160c4927",
   "metadata": {},
   "source": [
    "Prüfen des Druckverhältnisses nicht vergessen!!!"
   ]
  },
  {
   "cell_type": "raw",
   "id": "aa5e428c-4d61-480c-9983-ff0c500528c3",
   "metadata": {},
   "source": [
    "πD1=1/(pt5/p0)\n",
    "πkrit=(2/(k+1))**(k/(k-1))\n",
    "πD1 , πkrit"
   ]
  },
  {
   "cell_type": "raw",
   "id": "e97c872d-b8ec-48cd-8584-27168443fabf",
   "metadata": {},
   "source": [
    "k=k4\n",
    "c8=(abs(nD*2*k/(k-1)*R*Tt5*(1-(pt5/p0)**((k-1)/k))))**0.5\n",
    "Ma=c8/(k*R*Tt5)**0.5\n",
    "c8, Ma"
   ]
  },
  {
   "cell_type": "raw",
   "id": "cd053cf2-7ead-4515-a240-c41c30c7f68a",
   "metadata": {},
   "source": [
    "F1=c8*(mL1+mB)\n",
    "F1"
   ]
  },
  {
   "cell_type": "raw",
   "id": "74a73913-6f99-4796-a6b2-1a6e3d67b41e",
   "metadata": {},
   "source": [
    "c8k=(2*k/(k+1)*R*Tt5)**0.5\n",
    "c8k"
   ]
  },
  {
   "cell_type": "raw",
   "id": "33b8710f-1e6b-4da7-ba01-7e7b9233569c",
   "metadata": {},
   "source": [
    "F1=c8k*(mL1+mB)\n",
    "F1"
   ]
  },
  {
   "cell_type": "raw",
   "id": "132a7fc5-b896-419c-a3e9-765cb92e7ce9",
   "metadata": {},
   "source": [
    "Tt8=Tt5\n",
    "Tst8=Tt8-c8**2/2/cp4\n",
    "\n",
    "p8st=πkrit*pt5*100  #für umrechnung hPa in Pa[N/m**2]\n",
    "\n",
    "rho=p8st/R/Tst8\n",
    "\n",
    "\n",
    "AD=mL1/rho/c8k\n",
    "AD"
   ]
  },
  {
   "cell_type": "raw",
   "id": "b52fdf95-666c-41ad-9e40-a4af044e45b9",
   "metadata": {},
   "source": [
    "F1+AD*(p8st-p0*100)"
   ]
  },
  {
   "cell_type": "markdown",
   "id": "442a9a79-1d13-4ded-9ae5-e72db1b22729",
   "metadata": {
    "tags": []
   },
   "source": [
    "### Zweiter Anlauf"
   ]
  },
  {
   "cell_type": "code",
   "execution_count": 2,
   "id": "3f66aee6-ae26-4fc1-8225-889b1804ec87",
   "metadata": {},
   "outputs": [
    {
     "data": {
      "text/plain": [
       "(625.0707578616757, 679.9183230949718, 15195)"
      ]
     },
     "execution_count": 2,
     "metadata": {},
     "output_type": "execute_result"
    }
   ],
   "source": [
    "pt3=p0*πV\n",
    "\n",
    "k=k1\n",
    "Tt2=T0\n",
    "\n",
    "Tt3is=πV**((k-1)/k)*Tt2\n",
    "\n",
    "Tt3=(Tt3is-Tt2)/nHDV+Tt2\n",
    "\n",
    "\n",
    "Tt3is,Tt3, pt3"
   ]
  },
  {
   "cell_type": "code",
   "execution_count": 3,
   "id": "9e1deee1-ec73-4666-801a-78c4a37a4db3",
   "metadata": {},
   "outputs": [
    {
     "data": {
      "text/plain": [
       "14435.25"
      ]
     },
     "execution_count": 3,
     "metadata": {},
     "output_type": "execute_result"
    }
   ],
   "source": [
    "pt4=πBK*pt3\n",
    "pt4"
   ]
  },
  {
   "cell_type": "code",
   "execution_count": 4,
   "id": "7f828282-894d-465f-8cb4-c52444f7d828",
   "metadata": {},
   "outputs": [
    {
     "data": {
      "text/plain": [
       "1599.978618842998"
      ]
     },
     "execution_count": 4,
     "metadata": {},
     "output_type": "execute_result"
    }
   ],
   "source": [
    "Tt4=((nA*Hu*mB)+mL1*cp1*Tt3)/((mL1+mB)*cp4)\n",
    "Tt4"
   ]
  },
  {
   "cell_type": "code",
   "execution_count": 5,
   "id": "bb37b4e4-739a-48c8-abe3-abd98dfc9b6a",
   "metadata": {},
   "outputs": [
    {
     "data": {
      "text/plain": [
       "'2.36e+07'"
      ]
     },
     "execution_count": 5,
     "metadata": {},
     "output_type": "execute_result"
    }
   ],
   "source": [
    "Pv=mL1*cp1*(Tt3-Tt2)\n",
    "format(Pv,'.3')"
   ]
  },
  {
   "cell_type": "code",
   "execution_count": 6,
   "id": "0ee9a9cb-fc5c-4179-b6b4-33a966acaf30",
   "metadata": {},
   "outputs": [
    {
     "data": {
      "text/plain": [
       "1234.3853534191699"
      ]
     },
     "execution_count": 6,
     "metadata": {},
     "output_type": "execute_result"
    }
   ],
   "source": [
    "Tt5=Tt4-Pv/((mL1+mB)*cp4)\n",
    "Tt5"
   ]
  },
  {
   "cell_type": "code",
   "execution_count": 7,
   "id": "bc3e708d-4c94-40da-aea0-9df362374685",
   "metadata": {},
   "outputs": [
    {
     "data": {
      "text/plain": [
       "1142.987037063213"
      ]
     },
     "execution_count": 7,
     "metadata": {},
     "output_type": "execute_result"
    }
   ],
   "source": [
    "T5is=Tt4+((Tt5-Tt4)/nHDT)\n",
    "T5is"
   ]
  },
  {
   "cell_type": "code",
   "execution_count": 8,
   "id": "d789b009-0248-439e-9794-451bb35d154e",
   "metadata": {},
   "outputs": [
    {
     "data": {
      "text/plain": [
       "4452.477359268649"
      ]
     },
     "execution_count": 8,
     "metadata": {},
     "output_type": "execute_result"
    }
   ],
   "source": [
    "pt5=(T5is/Tt4)**(k/(k-1))*pt4\n",
    "pt5"
   ]
  },
  {
   "cell_type": "code",
   "execution_count": 9,
   "id": "af6df1ad-1e4e-4dc8-9c28-7fe27f5d3b80",
   "metadata": {},
   "outputs": [
    {
     "data": {
      "text/plain": [
       "0.5282019210869349"
      ]
     },
     "execution_count": 9,
     "metadata": {},
     "output_type": "execute_result"
    }
   ],
   "source": [
    "πk=(2/(k+1))**(k/(k-1))\n",
    "πk"
   ]
  },
  {
   "cell_type": "code",
   "execution_count": 10,
   "id": "0bd201c2-4aa6-42ec-bbd0-9237dbc9d70f",
   "metadata": {},
   "outputs": [
    {
     "data": {
      "text/plain": [
       "0.23948820026090695"
      ]
     },
     "execution_count": 10,
     "metadata": {},
     "output_type": "execute_result"
    }
   ],
   "source": [
    "pt8=nD*pt5\n",
    "πD1=p0/pt8\n",
    "πD1"
   ]
  },
  {
   "cell_type": "code",
   "execution_count": 11,
   "id": "cefebc39-165b-44dd-aeb0-61b99dbd6dcd",
   "metadata": {},
   "outputs": [
    {
     "data": {
      "text/plain": [
       "643.051881367057"
      ]
     },
     "execution_count": 11,
     "metadata": {},
     "output_type": "execute_result"
    }
   ],
   "source": [
    "c8=(2*k/(k+1)*R*Tt5)**0.5\n",
    "c8"
   ]
  },
  {
   "cell_type": "code",
   "execution_count": 12,
   "id": "acf7281d-dfe3-45fa-9f1f-14954b25e538",
   "metadata": {},
   "outputs": [
    {
     "data": {
      "text/plain": [
       "1917.8271785067475"
      ]
     },
     "execution_count": 12,
     "metadata": {},
     "output_type": "execute_result"
    }
   ],
   "source": [
    "pst8=1/πk*p0\n",
    "pst8"
   ]
  },
  {
   "cell_type": "code",
   "execution_count": 13,
   "id": "136adaee-038c-4ff8-90d5-3c7ce782eb24",
   "metadata": {},
   "outputs": [],
   "source": [
    "Tt8=Tt5\n",
    "Tst8=Tt8-c8**2/2/cp4"
   ]
  },
  {
   "cell_type": "code",
   "execution_count": 14,
   "id": "177c33e9-d859-4fb4-90fd-1c47098cbc54",
   "metadata": {},
   "outputs": [],
   "source": [
    "rho8=pst8*100/R/Tst8"
   ]
  },
  {
   "cell_type": "code",
   "execution_count": 15,
   "id": "82d9a368-b87b-417f-b94a-19cd26140f34",
   "metadata": {},
   "outputs": [
    {
     "data": {
      "text/plain": [
       "0.14848457906153498"
      ]
     },
     "execution_count": 15,
     "metadata": {},
     "output_type": "execute_result"
    }
   ],
   "source": [
    "A8=(mL1+mB)/rho8/c8\n",
    "A8"
   ]
  },
  {
   "cell_type": "code",
   "execution_count": 16,
   "id": "cc6eefee-80ea-46a5-aea9-8510232be662",
   "metadata": {},
   "outputs": [],
   "source": [
    "Thrust_core=c8*(mL1+mB)+A8*(pst8*100-p0*100)"
   ]
  },
  {
   "cell_type": "code",
   "execution_count": 17,
   "id": "f389a41f-bb95-4cf5-9838-16963fe28f87",
   "metadata": {},
   "outputs": [
    {
     "data": {
      "text/plain": [
       "'52.97kN'"
      ]
     },
     "execution_count": 17,
     "metadata": {},
     "output_type": "execute_result"
    }
   ],
   "source": [
    "format(Thrust_core/1000,'.4')+'kN'"
   ]
  },
  {
   "cell_type": "markdown",
   "id": "d1968ae5-61a5-4cf1-97f3-1a339f4ddf8a",
   "metadata": {
    "tags": []
   },
   "source": [
    "### AFT- Fan "
   ]
  },
  {
   "cell_type": "raw",
   "id": "15df965c-8b99-4ee6-bbc9-f15dbea6d431",
   "metadata": {},
   "source": [
    "Zustand 0 -> 4 Identisch!\n",
    "Zustand 5 -> Z 45"
   ]
  },
  {
   "cell_type": "code",
   "execution_count": 18,
   "id": "67cde451-0f01-4825-b3b8-1459744c759a",
   "metadata": {},
   "outputs": [],
   "source": [
    "Tt45=Tt5\n",
    "Tt45is=T5is\n",
    "pt45=pt5"
   ]
  },
  {
   "cell_type": "code",
   "execution_count": 19,
   "id": "5db6919f-d652-4bf7-b2ae-054f10977281",
   "metadata": {},
   "outputs": [],
   "source": [
    "mL2=4*mL1"
   ]
  },
  {
   "cell_type": "code",
   "execution_count": 20,
   "id": "46373341-c0d5-4308-a21c-8ceaf68a3036",
   "metadata": {},
   "outputs": [],
   "source": [
    "πAFT = 1.8; nAFT = 0.9; nNDT = 0.75"
   ]
  },
  {
   "cell_type": "code",
   "execution_count": 21,
   "id": "eab3ae4e-272e-420e-a06a-2336d3c91a92",
   "metadata": {},
   "outputs": [
    {
     "data": {
      "text/plain": [
       "(288.15, 340.89087263578006)"
      ]
     },
     "execution_count": 21,
     "metadata": {},
     "output_type": "execute_result"
    }
   ],
   "source": [
    "k=k1\n",
    "pt2=p0\n",
    "pt13=πAFT*pt2\n",
    "\n",
    "Tt13is=πAFT**((k-1)/k)*Tt2\n",
    "Tt2, Tt13is"
   ]
  },
  {
   "cell_type": "code",
   "execution_count": 22,
   "id": "629be2d5-3326-4568-9c05-fe8da1152d78",
   "metadata": {},
   "outputs": [
    {
     "data": {
      "text/plain": [
       "346.7509695953112"
      ]
     },
     "execution_count": 22,
     "metadata": {},
     "output_type": "execute_result"
    }
   ],
   "source": [
    "Tt13=(Tt13is-Tt2)/nAFT+Tt2\n",
    "Tt13"
   ]
  },
  {
   "cell_type": "code",
   "execution_count": 23,
   "id": "4f762094-00a6-42de-b86e-fe1569c78e47",
   "metadata": {},
   "outputs": [
    {
     "data": {
      "text/plain": [
       "(0.5282019210869349, 0.5555555555555556)"
      ]
     },
     "execution_count": 23,
     "metadata": {},
     "output_type": "execute_result"
    }
   ],
   "source": [
    "πk, 1/πAFT"
   ]
  },
  {
   "cell_type": "raw",
   "id": "89b1426e-2f13-4567-9969-7022a8d3a76d",
   "metadata": {},
   "source": [
    "Unterkritisches Verhältniss da πk < πAFT"
   ]
  },
  {
   "cell_type": "code",
   "execution_count": 24,
   "id": "a0f81b24-6fe4-4bd1-90f8-63673a073d48",
   "metadata": {},
   "outputs": [
    {
     "data": {
      "text/plain": [
       "306.7189821883006"
      ]
     },
     "execution_count": 24,
     "metadata": {},
     "output_type": "execute_result"
    }
   ],
   "source": [
    "πAFT=1/πAFT\n",
    "π=p0/(pt13*nD)\n",
    "πAFT=π\n",
    "c18=(abs(nD*2*k1/(k1-1)*R*Tt13*(1-πAFT**((k1-1)/k)))**0.5)\n",
    "c18"
   ]
  },
  {
   "cell_type": "code",
   "execution_count": 25,
   "id": "2b8ae8b2-5157-445b-8cb0-e205e3c2895d",
   "metadata": {},
   "outputs": [
    {
     "data": {
      "text/plain": [
       "'73.6 kN'"
      ]
     },
     "execution_count": 25,
     "metadata": {},
     "output_type": "execute_result"
    }
   ],
   "source": [
    "Faft=c18*mL2\n",
    "format(Faft/1000,'.3')+' kN'"
   ]
  },
  {
   "cell_type": "raw",
   "id": "bd2be2f0-61ee-428b-922d-f8282382cb18",
   "metadata": {
    "jupyter": {
     "source_hidden": true
    },
    "tags": []
   },
   "source": [
    "Wellengleichgewicht für Verdichterleistung etc."
   ]
  },
  {
   "cell_type": "code",
   "execution_count": 26,
   "id": "530b349d-0dd6-472b-9a6b-2f54fd0de35c",
   "metadata": {},
   "outputs": [
    {
     "data": {
      "text/plain": [
       "(1015.6426060515254, 1234.3853534191699)"
      ]
     },
     "execution_count": 26,
     "metadata": {},
     "output_type": "execute_result"
    }
   ],
   "source": [
    "dh_AFT= cp1*(Tt2-Tt13)\n",
    "\n",
    "\n",
    "dT_NDT=mL2*dh_AFT/((mL1+mB)*cp4)\n",
    "\n",
    "\n",
    "Tt5=Tt45+dT_NDT\n",
    "Tt5, Tt45"
   ]
  },
  {
   "cell_type": "code",
   "execution_count": 27,
   "id": "d372d1a5-243f-4730-a6b0-8d103bd52bb8",
   "metadata": {},
   "outputs": [
    {
     "data": {
      "text/plain": [
       "(942.7283569289773, 1142.987037063213)"
      ]
     },
     "execution_count": 27,
     "metadata": {},
     "output_type": "execute_result"
    }
   ],
   "source": [
    "Tt5is=Tt45-(Tt45-Tt5)/nNDT\n",
    "Tt5is, Tt45is"
   ]
  },
  {
   "cell_type": "raw",
   "id": "eccf5b6d-79c9-4b67-8970-8bddc45564ae",
   "metadata": {},
   "source": [
    "Isentropenbeziehung für pt5 nutzen"
   ]
  },
  {
   "cell_type": "code",
   "execution_count": 28,
   "id": "42935fa6-522c-4efe-bebc-94020617c9b1",
   "metadata": {},
   "outputs": [
    {
     "data": {
      "text/plain": [
       "(1661.3734898256669, 4452.477359268649)"
      ]
     },
     "execution_count": 28,
     "metadata": {},
     "output_type": "execute_result"
    }
   ],
   "source": [
    "pt5=(Tt5is/Tt45)**(k4/(k4-1))*pt45\n",
    "pt5, pt45"
   ]
  },
  {
   "cell_type": "code",
   "execution_count": 29,
   "id": "1207ab89-bc9e-4ab0-abb6-825a4ecc1473",
   "metadata": {},
   "outputs": [
    {
     "data": {
      "text/plain": [
       "('  πD2 > πkrit ', 0.6097364657638165, 0.5282019210869349)"
      ]
     },
     "execution_count": 29,
     "metadata": {},
     "output_type": "execute_result"
    }
   ],
   "source": [
    "pt8=pt5*nD\n",
    "πD2=p0/pt5\n",
    "'  πD2 > πkrit ', πD2 , πk # unterkritisches Druckverhältniss"
   ]
  },
  {
   "cell_type": "code",
   "execution_count": 30,
   "id": "b22fcda0-4caf-4713-9ecd-bd696ea6a295",
   "metadata": {},
   "outputs": [
    {
     "data": {
      "text/plain": [
       "517.006679943762"
      ]
     },
     "execution_count": 30,
     "metadata": {},
     "output_type": "execute_result"
    }
   ],
   "source": [
    "c8=(nD*2*k4/(k4-1)*R*Tt5*(1-πD2**((k-1)/k)))**0.5\n",
    "c8"
   ]
  },
  {
   "cell_type": "code",
   "execution_count": 31,
   "id": "4a44bd93-5c1a-4e5f-b0a5-b58ae60b1965",
   "metadata": {},
   "outputs": [
    {
     "data": {
      "text/plain": [
       "581.178814474343"
      ]
     },
     "execution_count": 31,
     "metadata": {},
     "output_type": "execute_result"
    }
   ],
   "source": [
    "ck8=(2*k4/(k4+1)*R*Tt5)**0.5\n",
    "ck8"
   ]
  },
  {
   "cell_type": "code",
   "execution_count": 32,
   "id": "7562767d-27db-49ba-bef1-1a014b1b60bc",
   "metadata": {},
   "outputs": [
    {
     "data": {
      "text/plain": [
       "' 105.4kN Thrust '"
      ]
     },
     "execution_count": 32,
     "metadata": {},
     "output_type": "execute_result"
    }
   ],
   "source": [
    "Ft=Faft+c8*(mL1+mB)\n",
    "' '+format(Ft/1000,'.4')+'kN Thrust '"
   ]
  },
  {
   "cell_type": "code",
   "execution_count": 33,
   "id": "44f2bd6c-1db2-4e3b-a80a-34b11828f913",
   "metadata": {},
   "outputs": [
    {
     "name": "stdout",
     "output_type": "stream",
     "text": [
      "Abweichung= -0.846660%\n"
     ]
    }
   ],
   "source": [
    "print('Abweichung=',format((105.4-106.3)/106.3,'%'))"
   ]
  },
  {
   "cell_type": "markdown",
   "id": "48f0cd28-2468-43dd-b72e-9aa7d48ccdaf",
   "metadata": {},
   "source": [
    "### ZTL Frontfan"
   ]
  },
  {
   "cell_type": "code",
   "execution_count": 34,
   "id": "c19f234f-18c9-4454-9700-2e85c398d75e",
   "metadata": {
    "tags": []
   },
   "outputs": [],
   "source": [
    "p0=1013\n",
    "T0=288.15\n",
    "cp1=1004\n",
    "cp4=1050\n",
    "R=287.1\n",
    "k1=cp1/(cp1-R)\n",
    "k4=cp4/(cp4-R)\n",
    "\n",
    "πE=1\n",
    "πHDV=15\n",
    "nHDV=0.86\n",
    "nHDT=0.8\n",
    "nD=0.95\n",
    "\n",
    "phi=4\n",
    "\n",
    "πfan=1.8\n",
    "nfan=0.9\n",
    "nNDT=0.75\n",
    "\n",
    "mL1=60\n",
    "mL2= phi*mL1\n",
    "mB=1.479\n",
    "\n",
    "mg=mL2+mL1+mB\n",
    "\n",
    "nA=0.98\n",
    "πBK=0.95\n",
    "Hu=43*10**6"
   ]
  },
  {
   "cell_type": "code",
   "execution_count": 35,
   "id": "dff50776-04cb-44df-be31-40ddf93791c3",
   "metadata": {},
   "outputs": [],
   "source": [
    "Tt4=1600\n",
    "pt2=p0\n",
    "Tt2=T0"
   ]
  },
  {
   "cell_type": "code",
   "execution_count": 36,
   "id": "5b8a3b92-0f2b-4935-b313-f834d6ed6f05",
   "metadata": {},
   "outputs": [
    {
     "data": {
      "text/plain": [
       "(0.5282019210869349, 0.5555555555555556)"
      ]
     },
     "execution_count": 36,
     "metadata": {},
     "output_type": "execute_result"
    }
   ],
   "source": [
    "πk , 1/πfan  # Unterkritisch"
   ]
  },
  {
   "cell_type": "code",
   "execution_count": 37,
   "id": "46924436-b247-43d2-852e-9d0e4838692a",
   "metadata": {
    "tags": []
   },
   "outputs": [
    {
     "data": {
      "text/plain": [
       "(340.89087263578006, 288.15)"
      ]
     },
     "execution_count": 37,
     "metadata": {},
     "output_type": "execute_result"
    }
   ],
   "source": [
    "pt13=pt2*πfan\n",
    "Tt13is=πfan**((k1-1)/k)*Tt2\n",
    "Tt13is, Tt2"
   ]
  },
  {
   "cell_type": "code",
   "execution_count": 38,
   "id": "df1b787e-a86c-4b80-9ebe-3d923a438420",
   "metadata": {},
   "outputs": [
    {
     "data": {
      "text/plain": [
       "346.7509695953112"
      ]
     },
     "execution_count": 38,
     "metadata": {},
     "output_type": "execute_result"
    }
   ],
   "source": [
    "Tt13=Tt2-(-Tt13is+Tt2)/nfan\n",
    "Tt13"
   ]
  },
  {
   "cell_type": "code",
   "execution_count": 39,
   "id": "20fd3b03-93a1-4bbc-b50c-b6f23e3fb2dd",
   "metadata": {},
   "outputs": [],
   "source": [
    "πfan=1/πfan"
   ]
  },
  {
   "cell_type": "code",
   "execution_count": 40,
   "id": "db3cf840-183a-440f-86c6-2f2183b7579a",
   "metadata": {},
   "outputs": [
    {
     "data": {
      "text/plain": [
       "(306.7189821883006, 0.5847953216374269, 0.5847953216374269)"
      ]
     },
     "execution_count": 40,
     "metadata": {},
     "output_type": "execute_result"
    }
   ],
   "source": [
    "pt18=nD*pt13   #π mit nD einbezogen... sinnvolleres ergebnis\n",
    "π=p0/pt18\n",
    "\n",
    "c18=abs(nD*2*k1/(k1-1)*R*Tt13*(1-π**((k1-1)/k)))**0.5\n",
    "c18 , π , πAFT"
   ]
  },
  {
   "cell_type": "code",
   "execution_count": 41,
   "id": "64a3b503-b9f1-4854-b9d4-edc617de7b43",
   "metadata": {},
   "outputs": [
    {
     "data": {
      "text/plain": [
       "' 73.61kN Thrust '"
      ]
     },
     "execution_count": 41,
     "metadata": {},
     "output_type": "execute_result"
    }
   ],
   "source": [
    "Fbypass=c18*mL2\n",
    "' '+format(Fbypass/1000,'.4')+'kN Thrust '"
   ]
  },
  {
   "cell_type": "raw",
   "id": "788a3c21-a895-43a3-a383-fb3268685e21",
   "metadata": {},
   "source": []
  },
  {
   "cell_type": "code",
   "execution_count": 42,
   "id": "6e18b26a-fe95-4b0b-bbb5-7dcd07cddf0b",
   "metadata": {},
   "outputs": [
    {
     "data": {
      "text/plain": [
       "752.1911898463024"
      ]
     },
     "execution_count": 42,
     "metadata": {},
     "output_type": "execute_result"
    }
   ],
   "source": [
    "pt3=pt13*πHDV\n",
    "Tt3is=(πHDV)**((k1-1)/k1)*Tt13\n",
    "Tt3is"
   ]
  },
  {
   "cell_type": "code",
   "execution_count": 43,
   "id": "78c6fc89-d129-45ca-85ca-788de9fb6721",
   "metadata": {},
   "outputs": [
    {
     "data": {
      "text/plain": [
       "818.1930861662313"
      ]
     },
     "execution_count": 43,
     "metadata": {},
     "output_type": "execute_result"
    }
   ],
   "source": [
    "Tt3=(Tt3is-Tt13)/nHDV+Tt13\n",
    "Tt3"
   ]
  },
  {
   "cell_type": "code",
   "execution_count": 44,
   "id": "26840d2b-3b46-437e-ac31-52d2085356c7",
   "metadata": {},
   "outputs": [],
   "source": [
    "pt4=pt3*πBK"
   ]
  },
  {
   "cell_type": "code",
   "execution_count": 45,
   "id": "eff2f51a-caca-4776-abb1-78f6d64f340f",
   "metadata": {},
   "outputs": [
    {
     "data": {
      "text/plain": [
       "1.2731598736862637"
      ]
     },
     "execution_count": 45,
     "metadata": {},
     "output_type": "execute_result"
    }
   ],
   "source": [
    "mB=mL1*(cp4*Tt4-cp1*Tt3)/(nA*Hu-cp4*Tt4)\n",
    "mB"
   ]
  },
  {
   "cell_type": "code",
   "execution_count": 46,
   "id": "2fbe3395-5171-48f4-b88b-94dd769787d8",
   "metadata": {},
   "outputs": [
    {
     "data": {
      "text/plain": [
       "1158.5782131659394"
      ]
     },
     "execution_count": 46,
     "metadata": {},
     "output_type": "execute_result"
    }
   ],
   "source": [
    "Phdv=cp1*mL1*abs(Tt13-Tt3)\n",
    "mg=mL1+mB\n",
    "Tt45=Tt4-Phdv/cp4/mg\n",
    "Tt45"
   ]
  },
  {
   "cell_type": "code",
   "execution_count": 47,
   "id": "c79c49aa-d22c-491f-a144-12a6b90ba1d1",
   "metadata": {},
   "outputs": [
    {
     "data": {
      "text/plain": [
       "884.2312276110396"
      ]
     },
     "execution_count": 47,
     "metadata": {},
     "output_type": "execute_result"
    }
   ],
   "source": [
    "Pfan=(mL1+mL2)*cp1*(Tt2-Tt13)\n",
    "\n",
    "Tt5=Pfan/mg/cp4+Tt45\n",
    "Tt5"
   ]
  },
  {
   "cell_type": "code",
   "execution_count": 48,
   "id": "9112340a-2299-430c-b168-5bf303206220",
   "metadata": {},
   "outputs": [
    {
     "data": {
      "text/plain": [
       "606.8009796233636"
      ]
     },
     "execution_count": 48,
     "metadata": {},
     "output_type": "execute_result"
    }
   ],
   "source": [
    "x=Tt4\n",
    "y=Tt45\n",
    "n=nHDT\n",
    "Tt=(y-x)/n+y\n",
    "Tt45is=Tt\n",
    "Tt"
   ]
  },
  {
   "cell_type": "code",
   "execution_count": 49,
   "id": "93707ddd-ffa2-48af-bcde-22033ae6a136",
   "metadata": {},
   "outputs": [
    {
     "data": {
      "text/plain": [
       "518.4352468711731"
      ]
     },
     "execution_count": 49,
     "metadata": {},
     "output_type": "execute_result"
    }
   ],
   "source": [
    "x=Tt45\n",
    "y=Tt5\n",
    "n=nNDT\n",
    "Tt=(y-x)/n+y\n",
    "Tt5is=Tt\n",
    "Tt"
   ]
  },
  {
   "cell_type": "code",
   "execution_count": 52,
   "id": "cf78f7f6-f984-48e2-ae36-21f992712add",
   "metadata": {},
   "outputs": [
    {
     "data": {
      "text/plain": [
       "4452.477359268649"
      ]
     },
     "execution_count": 52,
     "metadata": {},
     "output_type": "execute_result"
    }
   ],
   "source": [
    "x=Tt45is\n",
    "y=Tt4\n",
    "z=pt4\n",
    "\n",
    "pt=(x/y)**(k/(k-1))*z\n",
    "pt=pt45\n",
    "pt"
   ]
  },
  {
   "cell_type": "code",
   "execution_count": 53,
   "id": "9b31790a-d1c2-4dc2-8403-661e1a9888b3",
   "metadata": {},
   "outputs": [
    {
     "data": {
      "text/plain": [
       "1661.3734898256669"
      ]
     },
     "execution_count": 53,
     "metadata": {},
     "output_type": "execute_result"
    }
   ],
   "source": [
    "x=Tt5is\n",
    "y=Tt45\n",
    "z=pt45\n",
    "\n",
    "pt=(x/y)**(k/(k-1))*z\n",
    "pt=pt5\n",
    "pt"
   ]
  },
  {
   "cell_type": "code",
   "execution_count": 55,
   "id": "129052d6-ecf8-41e2-904f-b45849ec945c",
   "metadata": {},
   "outputs": [
    {
     "data": {
      "text/plain": [
       "448.80744741244337"
      ]
     },
     "execution_count": 55,
     "metadata": {},
     "output_type": "execute_result"
    }
   ],
   "source": [
    "pt8=pt5*nD\n",
    "π=p0/pt8\n",
    "k=k4\n",
    "c8=(nD*2*k/(k-1)*R*Tt5*(1-π**((k-1)/k)))**0.5\n",
    "c8"
   ]
  },
  {
   "cell_type": "code",
   "execution_count": 57,
   "id": "c5985b35-8079-462f-84f2-f75cd0ba4c7b",
   "metadata": {},
   "outputs": [],
   "source": [
    "Fcore=c8*mg"
   ]
  },
  {
   "cell_type": "code",
   "execution_count": 69,
   "id": "7162a8cd-ea3a-4a67-90f8-f17085e5b9a9",
   "metadata": {},
   "outputs": [],
   "source": [
    "Fg=(Fbypass+Fcore)/1000"
   ]
  },
  {
   "cell_type": "code",
   "execution_count": 70,
   "id": "d6c1bd70-6ff0-422f-b8cc-55dd676ae8ec",
   "metadata": {},
   "outputs": [
    {
     "name": "stdout",
     "output_type": "stream",
     "text": [
      "Abweichung: 1.127575%\n"
     ]
    }
   ],
   "source": [
    "x=99.985\n",
    "print('Abweichung:',format((Fg-x)/x,'%'))"
   ]
  },
  {
   "cell_type": "code",
   "execution_count": 73,
   "id": "7e555a83-4573-4d9a-97e3-1ea1de35868c",
   "metadata": {},
   "outputs": [
    {
     "name": "stdout",
     "output_type": "stream",
     "text": [
      "101.1kN Thrust \n"
     ]
    }
   ],
   "source": [
    "print(format(Fg,'.4')+'kN Thrust ')"
   ]
  },
  {
   "cell_type": "code",
   "execution_count": null,
   "id": "ba781b0a-edbc-4225-80fd-6ddbaf9f87dd",
   "metadata": {},
   "outputs": [],
   "source": []
  }
 ],
 "metadata": {
  "kernelspec": {
   "display_name": "Python 3 (ipykernel)",
   "language": "python",
   "name": "python3"
  },
  "language_info": {
   "codemirror_mode": {
    "name": "ipython",
    "version": 3
   },
   "file_extension": ".py",
   "mimetype": "text/x-python",
   "name": "python",
   "nbconvert_exporter": "python",
   "pygments_lexer": "ipython3",
   "version": "3.9.9"
  }
 },
 "nbformat": 4,
 "nbformat_minor": 5
}
