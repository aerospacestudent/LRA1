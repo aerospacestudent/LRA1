{
 "cells": [
  {
   "cell_type": "code",
   "execution_count": 1,
   "id": "ae369faf-1f39-40ba-ba82-23198ff14784",
   "metadata": {},
   "outputs": [],
   "source": [
    "T0=288.15\n",
    "p0=1013\n",
    "mL=60\n",
    "cp13=1004 ; cp49=1070\n",
    "R=287.1\n",
    "k13=cp13/(cp13-R)\n",
    "k49=cp49/(cp49-R)\n",
    "πE=1\n",
    "\n",
    "πV=9.5 ; nV=0.85\n",
    "\n",
    "πBK=0.97; Tt4=1384\n",
    "\n",
    "Pn=100000\n",
    "Hu=43*10**6"
   ]
  },
  {
   "cell_type": "code",
   "execution_count": 2,
   "id": "77140d45-2b92-4914-9f68-f06ca2ee93bb",
   "metadata": {},
   "outputs": [
    {
     "data": {
      "text/plain": [
       "9623.5"
      ]
     },
     "execution_count": 2,
     "metadata": {},
     "output_type": "execute_result"
    }
   ],
   "source": [
    "pt3=p0*πV\n",
    "pt3"
   ]
  },
  {
   "cell_type": "code",
   "execution_count": 3,
   "id": "81aac68d-b1d9-4048-9b2f-9901acf7b41b",
   "metadata": {},
   "outputs": [
    {
     "data": {
      "text/plain": [
       "548.5354838203098"
      ]
     },
     "execution_count": 3,
     "metadata": {},
     "output_type": "execute_result"
    }
   ],
   "source": [
    "T3is=(πV**((k13-1)/k13))*T0\n",
    "T3is"
   ]
  },
  {
   "cell_type": "code",
   "execution_count": 14,
   "id": "265856f6-2b6a-4a1a-94f3-9c59cffbe252",
   "metadata": {},
   "outputs": [
    {
     "data": {
      "text/plain": [
       "(594.4858633180115, 306.33586331801155, 260.3854838203098)"
      ]
     },
     "execution_count": 14,
     "metadata": {},
     "output_type": "execute_result"
    }
   ],
   "source": [
    "dTv=T3is-T0\n",
    "dTvis=dTv\n",
    "Tt3=dTv/nV+T0\n",
    "dTv=Tt3-T0\n",
    "Tt3 , dTv, dTvis"
   ]
  },
  {
   "cell_type": "code",
   "execution_count": 15,
   "id": "540e23ef-92a2-4525-8589-f8bfd47e329b",
   "metadata": {},
   "outputs": [
    {
     "data": {
      "text/plain": [
       "9334.795"
      ]
     },
     "execution_count": 15,
     "metadata": {},
     "output_type": "execute_result"
    }
   ],
   "source": [
    "pt4=pt3*πBK\n",
    "pt4"
   ]
  },
  {
   "cell_type": "code",
   "execution_count": 16,
   "id": "0ab90e8c-c32c-4119-869a-b47b7887a62a",
   "metadata": {},
   "outputs": [
    {
     "data": {
      "text/plain": [
       "1.7219691554156253"
      ]
     },
     "execution_count": 16,
     "metadata": {},
     "output_type": "execute_result"
    }
   ],
   "source": [
    "mB=mL*(cp49*Tt4-cp13*T0)/(Hu*(1-cp49*Tt4/Hu))\n",
    "mB"
   ]
  },
  {
   "cell_type": "code",
   "execution_count": 17,
   "id": "6e71427c-7c52-4708-8709-ac6c19c9233f",
   "metadata": {},
   "outputs": [
    {
     "data": {
      "text/plain": [
       "217.1970992976444"
      ]
     },
     "execution_count": 17,
     "metadata": {},
     "output_type": "execute_result"
    }
   ],
   "source": [
    "(mL*cp13*(Tt3-T0)+Pn)/(mL+mB)/Tt4"
   ]
  },
  {
   "cell_type": "code",
   "execution_count": 18,
   "id": "e9858c01-5781-42a6-914f-9b6b812902a3",
   "metadata": {},
   "outputs": [
    {
     "data": {
      "text/plain": [
       "0.245981832933931"
      ]
     },
     "execution_count": 18,
     "metadata": {},
     "output_type": "execute_result"
    }
   ],
   "source": [
    "m4c=((mL+mB)*(Tt4**0.5))/pt4\n",
    "m4c"
   ]
  },
  {
   "cell_type": "code",
   "execution_count": 19,
   "id": "a9c1690d-b746-4ea2-8e26-2e62b57c003c",
   "metadata": {},
   "outputs": [
    {
     "data": {
      "text/plain": [
       "98.58569876001286"
      ]
     },
     "execution_count": 19,
     "metadata": {},
     "output_type": "execute_result"
    }
   ],
   "source": [
    "nopt=2.65*Tt4**0.5\n",
    "nopt"
   ]
  },
  {
   "cell_type": "code",
   "execution_count": 23,
   "id": "906c519c-6e9e-43a4-9c61-d798886d695b",
   "metadata": {},
   "outputs": [
    {
     "data": {
      "text/plain": [
       "307561.2067712836"
      ]
     },
     "execution_count": 23,
     "metadata": {},
     "output_type": "execute_result"
    }
   ],
   "source": [
    "dhv=cp13*(Tt3-T0)\n",
    "dhv"
   ]
  },
  {
   "cell_type": "code",
   "execution_count": 26,
   "id": "3a146a3e-28f9-4bd6-aecc-72a03e3b0643",
   "metadata": {},
   "outputs": [
    {
     "data": {
      "text/plain": [
       "1096.5596198399219"
      ]
     },
     "execution_count": 26,
     "metadata": {},
     "output_type": "execute_result"
    }
   ],
   "source": [
    "Tt5=Tt4-dhv/cp49\n",
    "Tt5"
   ]
  },
  {
   "cell_type": "code",
   "execution_count": 27,
   "id": "1ecf47a8-2caa-44a0-9085-87f5a4a8544d",
   "metadata": {},
   "outputs": [
    {
     "data": {
      "text/plain": [
       "1045.8348468704962"
      ]
     },
     "execution_count": 27,
     "metadata": {},
     "output_type": "execute_result"
    }
   ],
   "source": [
    "nT=0.85\n",
    "\n",
    "Tt5is=Tt5-Tt4\n",
    "Tt5is=Tt5is/nT+Tt4\n",
    "Tt5is"
   ]
  },
  {
   "cell_type": "code",
   "execution_count": 28,
   "id": "83ba6acd-97f0-40bb-b07b-b3efe6afdbdc",
   "metadata": {},
   "outputs": [
    {
     "data": {
      "text/plain": [
       "3285.7822414401217"
      ]
     },
     "execution_count": 28,
     "metadata": {},
     "output_type": "execute_result"
    }
   ],
   "source": [
    "pt5=(Tt5is/Tt4)**(k49/(k49-1))*pt4\n",
    "pt5"
   ]
  },
  {
   "cell_type": "code",
   "execution_count": 36,
   "id": "6e930717-9155-4aec-898d-e6c28f76e354",
   "metadata": {},
   "outputs": [
    {
     "data": {
      "text/plain": [
       "'-2.6% Abweichung'"
      ]
     },
     "execution_count": 36,
     "metadata": {},
     "output_type": "execute_result"
    }
   ],
   "source": [
    "#Abweichung von pt5\n",
    "percent=(pt5-3372)/3372*100\n",
    "format(percent,'.2')+'% Abweichung'"
   ]
  },
  {
   "cell_type": "code",
   "execution_count": 53,
   "id": "824aa48c-f9ec-4d4f-b1f6-2f20e9d49329",
   "metadata": {},
   "outputs": [
    {
     "data": {
      "text/plain": [
       "(336.25182529095025, 0.3082979715527385)"
      ]
     },
     "execution_count": 53,
     "metadata": {},
     "output_type": "execute_result"
    }
   ],
   "source": [
    "nD=0.95\n",
    "πD=p0/pt5\n",
    "k=k49\n",
    "\n",
    "\n",
    "\n",
    "c8=(abs(nD*2*k/(k-1)*R*Tt5*(1-πD**((k-1)/k))))**0.5\n",
    "#   Da πD überkritisch ist... ist dieses c8 nicht valide\n",
    "\n",
    "c8=(k*R*T0)**0.5\n",
    "c8, πD"
   ]
  },
  {
   "cell_type": "code",
   "execution_count": null,
   "id": "244a087b-6f79-4611-94e4-f2f2a2cbc118",
   "metadata": {},
   "outputs": [],
   "source": []
  }
 ],
 "metadata": {
  "kernelspec": {
   "display_name": "Python 3 (ipykernel)",
   "language": "python",
   "name": "python3"
  },
  "language_info": {
   "codemirror_mode": {
    "name": "ipython",
    "version": 3
   },
   "file_extension": ".py",
   "mimetype": "text/x-python",
   "name": "python",
   "nbconvert_exporter": "python",
   "pygments_lexer": "ipython3",
   "version": "3.9.9"
  }
 },
 "nbformat": 4,
 "nbformat_minor": 5
}
