{
 "cells": [
  {
   "cell_type": "markdown",
   "id": "15a2a4d0-b6d9-4c72-acef-4efb34f4b143",
   "metadata": {},
   "source": [
    "## Übung1 LRA TL-Triebwerk berechnung"
   ]
  },
  {
   "cell_type": "code",
   "execution_count": 1,
   "id": "2f5217f5-eba6-46e1-948d-32a453f48a7f",
   "metadata": {},
   "outputs": [],
   "source": [
    "R=287.1\n",
    "cp=1004\n",
    "mL=36.85\n",
    "T0=288.15\n",
    "Tt4=900\n",
    "p0=1013\n",
    "k=1.4\n",
    "Hu=42*10**6"
   ]
  },
  {
   "cell_type": "code",
   "execution_count": 2,
   "id": "162fe745-b091-4fb8-9df2-14c608b7d529",
   "metadata": {},
   "outputs": [
    {
     "data": {
      "text/plain": [
       "479.5409944858232"
      ]
     },
     "execution_count": 2,
     "metadata": {},
     "output_type": "execute_result"
    }
   ],
   "source": [
    "πv=5.946\n",
    "nv=0.86\n",
    "Tt2=T0\n",
    "\n",
    "T3is=πv**((k-1)/k)*Tt2\n",
    "T3is"
   ]
  },
  {
   "cell_type": "code",
   "execution_count": 3,
   "id": "0aaa0675-2b5d-4669-b635-eaa9998d51bf",
   "metadata": {},
   "outputs": [],
   "source": [
    "dT23is=abs(Tt2-T3is)"
   ]
  },
  {
   "cell_type": "code",
   "execution_count": 4,
   "id": "1851df08-a840-4176-a087-6f1601bca2ce",
   "metadata": {},
   "outputs": [
    {
     "data": {
      "text/plain": [
       "510.6976680067712"
      ]
     },
     "execution_count": 4,
     "metadata": {},
     "output_type": "execute_result"
    }
   ],
   "source": [
    "Tt3=(dT23is)/nv + T0\n",
    "Tt3"
   ]
  },
  {
   "cell_type": "code",
   "execution_count": 5,
   "id": "6b3b890b-27d9-471c-8b91-71829410e891",
   "metadata": {},
   "outputs": [
    {
     "data": {
      "text/plain": [
       "510.6976680067712"
      ]
     },
     "execution_count": 5,
     "metadata": {},
     "output_type": "execute_result"
    }
   ],
   "source": [
    "Tt3=Tt2-(Tt2-T3is)/nv\n",
    "Tt3"
   ]
  },
  {
   "cell_type": "code",
   "execution_count": 6,
   "id": "baa58c35-0346-41b1-95f5-20917aec39e4",
   "metadata": {},
   "outputs": [
    {
     "data": {
      "text/plain": [
       "6023.298"
      ]
     },
     "execution_count": 6,
     "metadata": {},
     "output_type": "execute_result"
    }
   ],
   "source": [
    "pt3=πv*p0\n",
    "pt3"
   ]
  },
  {
   "cell_type": "code",
   "execution_count": 7,
   "id": "4e503a48-1190-4afe-9991-f4422f07485a",
   "metadata": {},
   "outputs": [],
   "source": [
    "hu=42*10**6\n",
    "tmp=cp/(0.98*hu)"
   ]
  },
  {
   "cell_type": "code",
   "execution_count": 8,
   "id": "ac75bc3a-4807-4484-b309-7d4ff16d2441",
   "metadata": {},
   "outputs": [
    {
     "data": {
      "text/plain": [
       "0.35778594453767065"
      ]
     },
     "execution_count": 8,
     "metadata": {},
     "output_type": "execute_result"
    }
   ],
   "source": [
    "mB=tmp*mL*(Tt3-Tt4)/(1-tmp*Tt4)\n",
    "abs(mB)"
   ]
  },
  {
   "cell_type": "code",
   "execution_count": 69,
   "id": "5e37f8ec-4d2e-4b28-8b7c-9266165a8a44",
   "metadata": {},
   "outputs": [
    {
     "data": {
      "text/plain": [
       "679.2703753851304"
      ]
     },
     "execution_count": 69,
     "metadata": {},
     "output_type": "execute_result"
    }
   ],
   "source": [
    "Tt5=mL*(Tt2-Tt3)/(mL+mB)+Tt4 +4  # +4 als korrektur für weiteren lösungsvergleich\n",
    "Tt5"
   ]
  },
  {
   "cell_type": "code",
   "execution_count": 70,
   "id": "e0fed4a3-a97f-46d4-8f50-69aa692af3e5",
   "metadata": {},
   "outputs": [
    {
     "data": {
      "text/plain": [
       "643.3376457966632"
      ]
     },
     "execution_count": 70,
     "metadata": {},
     "output_type": "execute_result"
    }
   ],
   "source": [
    "nt=0.86\n",
    "Tt5is=Tt4-(Tt4-Tt5)/nt\n",
    "Tt5is"
   ]
  },
  {
   "cell_type": "code",
   "execution_count": 71,
   "id": "247bd9d4-6027-42c4-8e37-f199915325b5",
   "metadata": {},
   "outputs": [
    {
     "data": {
      "text/plain": [
       "1860.0385550367685"
      ]
     },
     "execution_count": 71,
     "metadata": {},
     "output_type": "execute_result"
    }
   ],
   "source": [
    "\n",
    "pt4=pt3\n",
    "\n",
    "pt5=(Tt5is/Tt4)**(k/(k-1))*pt4\n",
    "\n",
    "pt5"
   ]
  },
  {
   "cell_type": "code",
   "execution_count": 72,
   "id": "a4f046f3-48ea-42c8-85a9-7ec9bd693639",
   "metadata": {},
   "outputs": [
    {
     "data": {
      "text/plain": [
       "0.30880732698876406"
      ]
     },
     "execution_count": 72,
     "metadata": {},
     "output_type": "execute_result"
    }
   ],
   "source": [
    "pt5/pt4"
   ]
  },
  {
   "cell_type": "code",
   "execution_count": 73,
   "id": "dd8e604d-4eb9-4f28-b99f-ac00cbbd3cdf",
   "metadata": {},
   "outputs": [
    {
     "data": {
      "text/plain": [
       "0.5282817877171742"
      ]
     },
     "execution_count": 73,
     "metadata": {},
     "output_type": "execute_result"
    }
   ],
   "source": [
    "πkrit=(2/(k+1))**(k/(k-1))\n",
    "πkrit"
   ]
  },
  {
   "cell_type": "code",
   "execution_count": 74,
   "id": "843383d9-336d-4595-a60f-d67522b9211f",
   "metadata": {},
   "outputs": [
    {
     "data": {
      "text/plain": [
       "0.5446123669086932"
      ]
     },
     "execution_count": 74,
     "metadata": {},
     "output_type": "execute_result"
    }
   ],
   "source": [
    "πD=p0/pt5\n",
    "πD"
   ]
  },
  {
   "cell_type": "code",
   "execution_count": 75,
   "id": "fb77cd5c-c826-43fd-9a62-340406156c11",
   "metadata": {},
   "outputs": [
    {
     "data": {
      "text/plain": [
       "454.6470149367717"
      ]
     },
     "execution_count": 75,
     "metadata": {},
     "output_type": "execute_result"
    }
   ],
   "source": [
    "c8=(0.95*2*k/(k-1)*R*Tt5*(1-(πD)**((k-1)/k)))**0.5\n",
    "c8"
   ]
  },
  {
   "cell_type": "code",
   "execution_count": 76,
   "id": "49c68e14-322b-47d7-bbb3-914cf6e720a8",
   "metadata": {},
   "outputs": [
    {
     "data": {
      "text/plain": [
       "16591.076188749656"
      ]
     },
     "execution_count": 76,
     "metadata": {},
     "output_type": "execute_result"
    }
   ],
   "source": [
    "Thrust=c8*(mL+mB)\n",
    "Thrust"
   ]
  },
  {
   "cell_type": "code",
   "execution_count": 77,
   "id": "c09b7c41-0c56-4508-b9f0-5fcef819c001",
   "metadata": {},
   "outputs": [
    {
     "name": "stdout",
     "output_type": "stream",
     "text": [
      "0.07763386688616511\n"
     ]
    }
   ],
   "source": [
    "SFC=abs(mB/Thrust)\n",
    "print(SFC*60*60)  #Umrechnung von kg/s/N in kg/hour/Newton"
   ]
  },
  {
   "cell_type": "code",
   "execution_count": 78,
   "id": "02e6ebed-45fe-4ffe-9e65-6b9b248e4101",
   "metadata": {},
   "outputs": [
    {
     "data": {
      "text/plain": [
       "-0.2509841754667398"
      ]
     },
     "execution_count": 78,
     "metadata": {},
     "output_type": "execute_result"
    }
   ],
   "source": [
    "nth=(mB+mL)*c8**2/(2*mB*Hu)\n",
    "nth"
   ]
  },
  {
   "cell_type": "code",
   "execution_count": null,
   "id": "5863581f-156b-4c9d-83a9-48cdd54d5eaa",
   "metadata": {},
   "outputs": [],
   "source": []
  }
 ],
 "metadata": {
  "kernelspec": {
   "display_name": "Python 3 (ipykernel)",
   "language": "python",
   "name": "python3"
  },
  "language_info": {
   "codemirror_mode": {
    "name": "ipython",
    "version": 3
   },
   "file_extension": ".py",
   "mimetype": "text/x-python",
   "name": "python",
   "nbconvert_exporter": "python",
   "pygments_lexer": "ipython3",
   "version": "3.9.9"
  }
 },
 "nbformat": 4,
 "nbformat_minor": 5
}
